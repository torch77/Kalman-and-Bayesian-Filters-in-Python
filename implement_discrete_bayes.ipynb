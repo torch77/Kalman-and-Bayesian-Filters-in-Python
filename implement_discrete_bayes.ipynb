{
 "cells": [
  {
   "cell_type": "code",
   "execution_count": 9,
   "metadata": {},
   "outputs": [
    {
     "data": {
      "text/plain": [
       "array([0, 0, 1, 1, 1, 0, 0, 0, 0, 0, 0, 0, 0, 0, 1, 0, 0, 1, 0, 0])"
      ]
     },
     "execution_count": 9,
     "metadata": {},
     "output_type": "execute_result"
    }
   ],
   "source": [
    "import numpy as np\n",
    "import kf_book.book_plots as book_plots\n",
    "from kf_book.book_plots import figsize, set_figsize\n",
    "import matplotlib.pyplot as plt\n",
    "\n",
    "### lets try and recreate the example in the book of a dog moving between doors but instead we will change it to a cat moving between laps\n",
    "# change it a bit by adding more spaces / laps\n",
    "n_spots = 20\n",
    "laps = 5\n",
    "\n",
    "# cat is on a track betwen laps, randomly assign laps to spots to mix it up\n",
    "cat_track = np.concatenate((np.array([0] * (n_spots - laps)), np.array([1] * laps)))\n",
    "np.random.shuffle(cat_track)\n",
    "cat_track"
   ]
  },
  {
   "cell_type": "code",
   "execution_count": 3,
   "metadata": {},
   "outputs": [
    {
     "data": {
      "text/plain": [
       "array([0.05, 0.05, 0.05, 0.05, 0.05, 0.05, 0.05, 0.05, 0.05, 0.05, 0.05,\n",
       "       0.05, 0.05, 0.05, 0.05, 0.05, 0.05, 0.05, 0.05, 0.05])"
      ]
     },
     "execution_count": 3,
     "metadata": {},
     "output_type": "execute_result"
    }
   ],
   "source": [
    "# initially we have no idea where the cat is so set our belief to uniform\n",
    "belief = np.array([1/n_spots]*n_spots)\n",
    "belief"
   ]
  },
  {
   "cell_type": "code",
   "execution_count": 19,
   "metadata": {},
   "outputs": [
    {
     "name": "stdout",
     "output_type": "stream",
     "text": [
      "belief: [0.00027322 0.00027322 0.19918033 0.19918033 0.19918033 0.00027322\n",
      " 0.00027322 0.00027322 0.00027322 0.00027322 0.00027322 0.00027322\n",
      " 0.00027322 0.00027322 0.19918033 0.00027322 0.00027322 0.19918033\n",
      " 0.00027322 0.00027322]\n",
      "sum = 1.0000000000000004\n"
     ]
    },
    {
     "data": {
      "image/png": "[encoded data removed]",
      "text/plain": [
       "<Figure size 640x480 with 1 Axes>"
      ]
     },
     "metadata": {},
     "output_type": "display_data"
    }
   ],
   "source": [
    "## this is our function for our human sensor readings, we survey our humans to see if the cat is in their lap\n",
    "## but humans aren't always reliable sensors\n",
    "\n",
    "## lets assume that they are 4x more likely to be right than wrong\n",
    "def update_belief(track, belief, z, z_prob):\n",
    "    # track: the track the cat is on\n",
    "    # belief: the current belief of where the cat is\n",
    "    # z: the sensor reading\n",
    "    # z_prob: prob sensor is correct, used to calculate scale\n",
    "    \n",
    "    scale = z_prob / (1 - z_prob)\n",
    "\n",
    "    ## see book code for optimized faster numpy version, leaving as loop to be explicit\n",
    "    for i, val in enumerate(track): \n",
    "        if val == z:\n",
    "            # if we see the cat location = the sensor reading of \"lap\", increase our belief in that spot\n",
    "            belief[i] *= scale\n",
    "        ## this is our likelihood function, how likely is each position given our measurment\n",
    "    return belief\n",
    "\n",
    "\n",
    "## as shown below we increase our belief in the locations where we read a \"lap\"\n",
    "## this is our likelihood\n",
    "new_belief = update_belief(cat_track, belief, z=1, z_prob=.75)\n",
    "## likelihood not a prob dist so we normalize to get one\n",
    "new_belief = new_belief / sum(belief)\n",
    "print('belief:', new_belief)\n",
    "print('sum =', sum(new_belief))\n",
    "plt.figure()\n",
    "book_plots.bar_plot(new_belief)\n"
   ]
  },
  {
   "cell_type": "code",
   "execution_count": 26,
   "metadata": {},
   "outputs": [
    {
     "data": {
      "image/png": "[encoded data removed]",
      "text/plain": [
       "<Figure size 640x480 with 2 Axes>"
      ]
     },
     "metadata": {},
     "output_type": "display_data"
    }
   ],
   "source": [
    "### lets predict movement of cat now\n",
    "## skipping to convolution part\n",
    "\n",
    "## filterpy has convolve built in predict function but do it here for explicit\n",
    "\n",
    "\n",
    "def predict_move_convolution(pdf, offset, kernel):\n",
    "    N = len(pdf)\n",
    "    kN = len(kernel)\n",
    "    width = int((kN - 1) / 2) ## \n",
    "\n",
    "    prior = np.zeros(N)\n",
    "    for i in range(N):\n",
    "        for k in range (kN):\n",
    "            index = (i + (width-k) - offset) % N\n",
    "            prior[i] += pdf[index] * kernel[k]\n",
    "    return prior\n",
    "\n",
    "prior = predict_move_convolution(new_belief, offset=3, kernel=[.1, .8, .1])\n",
    "book_plots.plot_belief_vs_prior(new_belief, prior, ylim=(0,0.6)) \n",
    "# belief == likelihood of cat location given data at start\n",
    "# offset is steps we predict the cat to have moved, we shift the pdf of our belief by how far we think it moved\n",
    "# then we convolve with the kernel representing our uncertainty in the measurment of movement\n",
    "# we then end up with a prediction of cat's location which he calls a prior since it is now \n",
    "# fed back into the update step\n",
    "\n",
    "\n",
    "\n",
    "### need to finish up to have a true update / predict flow here but running out of time before bed"
   ]
  },
  {
   "cell_type": "code",
   "execution_count": 24,
   "metadata": {},
   "outputs": [
    {
     "data": {
      "text/plain": [
       "183.0"
      ]
     },
     "execution_count": 24,
     "metadata": {},
     "output_type": "execute_result"
    }
   ],
   "source": [
    "sum(belief)"
   ]
  },
  {
   "cell_type": "code",
   "execution_count": null,
   "metadata": {},
   "outputs": [],
   "source": []
  }
 ],
 "metadata": {
  "kernelspec": {
   "display_name": "kalman",
   "language": "python",
   "name": "python3"
  },
  "language_info": {
   "codemirror_mode": {
    "name": "ipython",
    "version": 3
   },
   "file_extension": ".py",
   "mimetype": "text/x-python",
   "name": "python",
   "nbconvert_exporter": "python",
   "pygments_lexer": "ipython3",
   "version": "3.12.2"
  }
 },
 "nbformat": 4,
 "nbformat_minor": 2
}
