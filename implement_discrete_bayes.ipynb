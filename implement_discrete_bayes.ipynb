{
 "cells": [
  {
   "cell_type": "code",
   "execution_count": 155,
   "metadata": {},
   "outputs": [
    {
     "data": {
      "text/plain": [
       "array([1, 1, 0, 0, 0, 0, 1, 0, 0, 1, 0, 0, 0, 0, 0, 0, 1, 0, 0, 0])"
      ]
     },
     "execution_count": 155,
     "metadata": {},
     "output_type": "execute_result"
    }
   ],
   "source": [
    "import numpy as np\n",
    "import kf_book.book_plots as book_plots\n",
    "from kf_book.book_plots import figsize, set_figsize\n",
    "import matplotlib.pyplot as plt\n",
    "\n",
    "### lets try and recreate the example in the book of a dog moving between doors but instead we will change it to a cat moving between laps\n",
    "# change it a bit by adding more spaces / laps\n",
    "n_spots = 20\n",
    "laps = 5\n",
    "\n",
    "# cat is on a track betwen laps, randomly assign laps to spots to mix it up\n",
    "cat_track = np.concatenate((np.array([0] * (n_spots - laps)), np.array([1] * laps)))\n",
    "np.random.shuffle(cat_track)\n",
    "cat_track"
   ]
  },
  {
   "cell_type": "code",
   "execution_count": 156,
   "metadata": {},
   "outputs": [
    {
     "data": {
      "text/plain": [
       "array([0.05, 0.05, 0.05, 0.05, 0.05, 0.05, 0.05, 0.05, 0.05, 0.05, 0.05,\n",
       "       0.05, 0.05, 0.05, 0.05, 0.05, 0.05, 0.05, 0.05, 0.05])"
      ]
     },
     "execution_count": 156,
     "metadata": {},
     "output_type": "execute_result"
    }
   ],
   "source": [
    "# initially we have no idea where the cat is so set our belief to uniform\n",
    "belief = np.array([1/n_spots]*n_spots)\n",
    "belief"
   ]
  },
  {
   "cell_type": "code",
   "execution_count": 157,
   "metadata": {},
   "outputs": [
    {
     "name": "stdout",
     "output_type": "stream",
     "text": [
      "belief: [0.1        0.1        0.03333333 0.03333333 0.03333333 0.03333333\n",
      " 0.1        0.03333333 0.03333333 0.1        0.03333333 0.03333333\n",
      " 0.03333333 0.03333333 0.03333333 0.03333333 0.1        0.03333333\n",
      " 0.03333333 0.03333333]\n",
      "sum = 0.9999999999999997\n"
     ]
    },
    {
     "data": {
      "image/png": "[encoded data removed]",
      "text/plain": [
       "<Figure size 640x480 with 1 Axes>"
      ]
     },
     "metadata": {},
     "output_type": "display_data"
    }
   ],
   "source": [
    "## this is our function for our human sensor readings, we survey our humans to see if the cat is in their lap\n",
    "## but humans aren't always reliable sensors\n",
    "\n",
    "## lets assume that they are more likely to be right than wrong\n",
    "def update_belief(track, belief, z, z_prob):\n",
    "    # track: the track the cat is on\n",
    "    # belief: the current belief of where the cat is\n",
    "    # z: the sensor reading\n",
    "    # z_prob: prob sensor is correct, used to calculate scale\n",
    "    \n",
    "    scale = z_prob / (1 - z_prob)\n",
    "\n",
    "    ## see book code for optimized faster numpy version, leaving as loop to be explicit\n",
    "    for i, val in enumerate(track): \n",
    "        if val == z:\n",
    "            # if we see the cat location = the sensor reading of \"lap\", increase our belief in that spot\n",
    "            belief[i] *= scale\n",
    "        ## this is our likelihood function, how likely is each position given our measurment\n",
    "    return belief\n",
    "\n",
    "\n",
    "## as shown below we increase our belief in the locations where we read a \"lap\"\n",
    "## this is our likelihood\n",
    "new_belief = update_belief(cat_track, belief, z=1, z_prob=.75)\n",
    "## likelihood not a prob dist so we normalize to get one\n",
    "new_belief = new_belief / sum(belief)\n",
    "print('belief:', new_belief)\n",
    "print('sum =', sum(new_belief))\n",
    "plt.figure()\n",
    "book_plots.bar_plot(new_belief)\n"
   ]
  },
  {
   "cell_type": "code",
   "execution_count": 158,
   "metadata": {},
   "outputs": [
    {
     "data": {
      "image/png": "[encoded data removed]",
      "text/plain": [
       "<Figure size 640x480 with 2 Axes>"
      ]
     },
     "metadata": {},
     "output_type": "display_data"
    }
   ],
   "source": [
    "### lets predict movement of cat now\n",
    "## skipping to convolution part\n",
    "\n",
    "## filterpy has convolve built in predict function but do it here tp be explicit\n",
    "def predict_move_convolution(pdf, offset, kernel):\n",
    "    N = len(pdf)\n",
    "    kN = len(kernel)\n",
    "    width = int((kN - 1) / 2) ## \n",
    "\n",
    "    prior = np.zeros(N)\n",
    "    for i in range(N):\n",
    "        for k in range (kN):\n",
    "            index = (i + (width-k) - offset) % N\n",
    "            prior[i] += pdf[index] * kernel[k]\n",
    "    return prior\n",
    "\n",
    "prior = predict_move_convolution(new_belief, offset=3, kernel=[.1, .8, .1])\n",
    "book_plots.plot_belief_vs_prior(new_belief, prior, ylim=(0,0.6)) \n",
    "# belief == likelihood of cat location given data at start\n",
    "# offset is steps we predict the cat to have moved, we shift the pdf of our belief by how far we think it moved\n",
    "# then we convolve with the kernel representing our uncertainty in the measurment of movement\n",
    "# we then end up with a prediction of cat's location which he calls a prior since it is now \n",
    "# fed back into the update step\n"
   ]
  },
  {
   "cell_type": "code",
   "execution_count": 159,
   "metadata": {},
   "outputs": [],
   "source": [
    "## here is code for the generalized process but don't use convienence functions from book\n",
    "def update_gen(likelihood, prior):\n",
    "    return (likelihood * prior) / sum(likelihood * prior)\n",
    "\n",
    "def track_likelihood(hall, z, z_prob):\n",
    "    \"\"\" compute likelihood that a measurement matches\n",
    "    positions in the hallway.\"\"\"\n",
    "    \n",
    "    try:\n",
    "        scale = z_prob / (1. - z_prob)\n",
    "    except ZeroDivisionError:\n",
    "        scale = 1e8\n",
    "\n",
    "    likelihood = np.ones(len(hall))\n",
    "    likelihood[hall==z] *= scale\n",
    "    return likelihood\n",
    "\n",
    "def predict_move_convolution(pdf, offset, kernel):\n",
    "    N = len(pdf)\n",
    "    kN = len(kernel)\n",
    "    width = int((kN - 1) / 2) ## \n",
    "\n",
    "    prior = np.zeros(N)\n",
    "    for i in range(N):\n",
    "        for k in range (kN):\n",
    "            index = (i + (width-k) - offset) % N\n",
    "            prior[i] += pdf[index] * kernel[k]\n",
    "    return prior\n"
   ]
  },
  {
   "cell_type": "code",
   "execution_count": 160,
   "metadata": {},
   "outputs": [],
   "source": [
    "import random\n",
    "## full solution number of movements\n",
    "move_n = 100\n",
    "n_spots = 20\n",
    "laps = 5\n",
    "# cat is on a track betwen laps, randomly assign laps to spots to mix it up\n",
    "cat_track = np.concatenate((np.array([0] * (n_spots - laps)), np.array([1] * laps)))\n",
    "np.random.shuffle(cat_track)\n",
    "\n",
    "## random movements\n",
    "movements = [-1 if random.random() >.5 else 1 for i in range(move_n)]\n",
    "\n",
    "# measurements with no noise\n",
    "# zs = [cat_track[i % len(cat_track)] for i in range(move_n)]\n",
    "# assume start == 0\n",
    "pos = 0\n",
    "zs = []\n",
    "hist = []\n",
    "for i, m in enumerate(movements):\n",
    "    if pos == 0 and m == -1:\n",
    "        pos = n_spots - 1\n",
    "    elif pos == n_spots - 1 and m == 1:\n",
    "        pos = 0\n",
    "    else:\n",
    "        pos += m\n",
    "    \n",
    "    hist.append(pos)\n",
    "    zs.append(cat_track[pos])\n"
   ]
  },
  {
   "cell_type": "code",
   "execution_count": 161,
   "metadata": {},
   "outputs": [
    {
     "data": {
      "text/plain": [
       "[18]"
      ]
     },
     "execution_count": 161,
     "metadata": {},
     "output_type": "execute_result"
    }
   ],
   "source": [
    "hist[-1:] # last_spot"
   ]
  },
  {
   "cell_type": "code",
   "execution_count": 165,
   "metadata": {},
   "outputs": [
    {
     "data": {
      "image/png": "[encoded data removed]",
      "text/plain": [
       "<Figure size 640x480 with 1 Axes>"
      ]
     },
     "metadata": {},
     "output_type": "display_data"
    }
   ],
   "source": [
    "import kf_book.book_plots as book_plots\n",
    "## loop through 100 movements\n",
    "# start w/ uniform prior\n",
    "posterior = np.array([1/n_spots] * n_spots)\n",
    "for i, z in enumerate(zs):\n",
    "    ## predict location first\n",
    "    prior = predict_move_convolution(posterior, movements[i], kernel=[.1, .8, .1])\n",
    "\n",
    "    ## get likelihood\n",
    "    likelihood = track_likelihood(cat_track, z, .75)\n",
    "    posterior = update_gen(likelihood, prior)\n",
    "\n",
    "book_plots.bar_plot(cat_track, c='k')\n",
    "book_plots.bar_plot(posterior, ylim=(0, 1.0))\n"
   ]
  }
 ],
 "metadata": {
  "kernelspec": {
   "display_name": "kalman",
   "language": "python",
   "name": "python3"
  },
  "language_info": {
   "codemirror_mode": {
    "name": "ipython",
    "version": 3
   },
   "file_extension": ".py",
   "mimetype": "text/x-python",
   "name": "python",
   "nbconvert_exporter": "python",
   "pygments_lexer": "ipython3",
   "version": "3.12.2"
  }
 },
 "nbformat": 4,
 "nbformat_minor": 2
}
